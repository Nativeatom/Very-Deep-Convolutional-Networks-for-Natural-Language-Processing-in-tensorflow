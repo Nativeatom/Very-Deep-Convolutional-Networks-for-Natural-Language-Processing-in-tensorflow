{
 "cells": [
  {
   "cell_type": "code",
   "execution_count": 1,
   "metadata": {
    "collapsed": false
   },
   "outputs": [],
   "source": [
    "#import data_helpers2 as data_helpers\n",
    "import numpy as np\n",
    "\n",
    "import tensorflow as tf\n",
    "\n",
    "# Parameters\n",
    "# ==================================================\n",
    "\n",
    "# Eval Parameters\n",
    "'''\n",
    "tf.flags.DEFINE_integer(\"batch_size\", 64, \"Batch Size (default: 64)\")\n",
    "tf.flags.DEFINE_string(\n",
    "    \"checkpoint_dir\", \"\", \"Checkpoint directory from training run\")\n",
    "tf.flags.DEFINE_string(\n",
    "    \"vocab_file\", \"\", \"Vocabulary mapping used for training run\")\n",
    "\n",
    "\n",
    "# Misc Parameters\n",
    "tf.flags.DEFINE_boolean(\n",
    "    \"allow_soft_placement\", True, \"Allow device soft device placement\")\n",
    "tf.flags.DEFINE_boolean(\n",
    "    \"log_device_placement\", False, \"Log placement of ops on devices\")\n",
    "\n",
    "\n",
    "FLAGS = tf.flags.FLAGS\n",
    "FLAGS._parse_flags()\n",
    "print(\"\\nParameters:\")\n",
    "for attr, value in sorted(FLAGS.__flags.items()):\n",
    "    print(\"{}={}\".format(attr.upper(), value))\n",
    "print(\"\")\n",
    "print(\"Loading data...\")\n",
    "x_test, y_test, vocabulary, vocabulary_inv = data_helpers.load_data(\n",
    "    eval=True, vocab_file=FLAGS.vocab_file,\n",
    "    cat1=\"./data/subreddit_news\", cat2=\"./data/subreddit_aww\")\n",
    "y_test = np.argmax(y_test, axis=1)\n",
    "print(\"Vocabulary size: {:d}\".format(len(vocabulary)))\n",
    "print(\"Test set size {:d}\".format(len(y_test)))\n",
    "'''\n",
    "# Load data. Load your own data here\n",
    "\n",
    "import csv\n",
    "import numpy as np\n",
    "samples = {}\n",
    "ALPHABET = \"abcdefghijklmnopqrstuvwxyz0123456789-,;.!?:'\\\"/\\\\|_@#$%^&*~`+ =<>()[]{}\"\n",
    "FEATURE_LEN =1014\n",
    "cdict = {}\n",
    "for i,c in enumerate(ALPHABET):\n",
    "    cdict[c] = i + 2\n",
    "samples = {}\n",
    "with open('/home/zhangjinbin/cnn_very_depp_29_nlp/dbpedia_data/test.csv') as f:\n",
    "    reader = csv.DictReader(f,fieldnames=['class'],restkey='fields')\n",
    "    for row in reader:\n",
    "        label = row['class']\n",
    "        if label not in samples:\n",
    "            samples[label] = []\n",
    "        sample = np.ones(FEATURE_LEN)\n",
    "        count = 0\n",
    "        for field in row['fields']:\n",
    "            for char in field.lower():\n",
    "                if char in cdict:\n",
    "                    sample[count] = cdict[char]\n",
    "                    count += 1\n",
    "                if count >= FEATURE_LEN-1:\n",
    "                    break\n",
    "        samples[label].append(sample)\n",
    "    samples_per_class = None\n",
    "    classes = samples.keys()\n",
    "    class_samples = []\n",
    "    for c in classes:\n",
    "        if samples_per_class is None:\n",
    "            samples_per_class = len(samples[c])\n",
    "        else:\n",
    "            assert samples_per_class == len(samples[c])\n",
    "        class_samples.append(samples[c])\n"
   ]
  },
  {
   "cell_type": "code",
   "execution_count": 2,
   "metadata": {
    "collapsed": true
   },
   "outputs": [],
   "source": [
    "def build_onehot(input_):\n",
    "    target = np.zeros(len(classes))\n",
    "    target[input_] = 1\n",
    "    return target\n",
    "y= []\n",
    "y_ = []\n",
    "for i in range(len(classes)):\n",
    "    for j in range(samples_per_class):\n",
    "        target =build_onehot(i)\n",
    "        y.append(target)\n",
    "        y_.append(i)\n",
    "y_ = np.array(y_)"
   ]
  },
  {
   "cell_type": "code",
   "execution_count": 3,
   "metadata": {
    "collapsed": true
   },
   "outputs": [],
   "source": [
    "x = np.reshape(class_samples,(-1,FEATURE_LEN))\n",
    "y = np.reshape(y,(-1,len(classes)))"
   ]
  },
  {
   "cell_type": "code",
   "execution_count": 4,
   "metadata": {
    "collapsed": false
   },
   "outputs": [
    {
     "name": "stdout",
     "output_type": "stream",
     "text": [
      "\n",
      "Evaluating...\n",
      "\n",
      "checkpoint file: /home/zhangjinbin/cnn_very_depp_29_nlp/runs_new/1468942578/checkpoints/model-84000\n"
     ]
    }
   ],
   "source": [
    "print(\"\\nEvaluating...\\n\")\n",
    "# Evaluation\n",
    "# ==================================================\n",
    "checkpoint_dir = '/home/zhangjinbin/cnn_very_depp_29_nlp/runs_new/1468942578/checkpoints/'\n",
    "checkpoint_file = tf.train.latest_checkpoint(checkpoint_dir)\n",
    "print(\"checkpoint file: {}\".format(checkpoint_file))"
   ]
  },
  {
   "cell_type": "code",
   "execution_count": 5,
   "metadata": {
    "collapsed": true
   },
   "outputs": [],
   "source": [
    "import os\n",
    "import time\n",
    "import datetime\n",
    "def batch_iter(x, y, batch_size, num_epochs, shuffle=False):\n",
    "    \"\"\"\n",
    "    Generates a batch iterator for a dataset.\n",
    "    \"\"\"\n",
    "    # data = np.array(data)\n",
    "    data_size = len(x)\n",
    "    num_batches_per_epoch = int(data_size/batch_size) + 1\n",
    "    print(\"num batches per epoch is: \" + str(num_batches_per_epoch))\n",
    "    # Shuffle the data at each epoch\n",
    "    if shuffle:\n",
    "        shuffle_indices = np.random.permutation(np.arange(data_size))\n",
    "        x_shuffled = x[shuffle_indices]\n",
    "        y_shuffled = y[shuffle_indices]\n",
    "    else:\n",
    "        x_shuffled = x\n",
    "        y_shuffled = y\n",
    "    for batch_num in range(num_batches_per_epoch):\n",
    "        start_index = batch_num * batch_size\n",
    "        end_index = min((batch_num + 1) * batch_size, data_size)\n",
    "        x_batch = x_shuffled[start_index:end_index]\n",
    "        y_batch = y_shuffled[start_index:end_index]\n",
    "        batch = list(zip(x_batch, y_batch))\n",
    "        yield batch"
   ]
  },
  {
   "cell_type": "code",
   "execution_count": 6,
   "metadata": {
    "collapsed": false
   },
   "outputs": [
    {
     "name": "stdout",
     "output_type": "stream",
     "text": [
      "num batches per epoch is: 547\n",
      "Total number of test examples: 70000\n",
      "Accuracy: 0.978257\n"
     ]
    }
   ],
   "source": [
    "graph = tf.Graph()\n",
    "with graph.as_default():\n",
    "    session_conf = tf.ConfigProto(\n",
    "        allow_soft_placement=True,\n",
    "        log_device_placement=False)\n",
    "    sess = tf.Session(config=session_conf)\n",
    "    with sess.as_default():\n",
    "        # Load the saved meta graph and restore variables\n",
    "        saver = tf.train.import_meta_graph(\"{}.meta\".format(checkpoint_file))\n",
    "        saver.restore(sess, checkpoint_file)\n",
    "\n",
    "        # Get the placeholders from the graph by name\n",
    "        input_x = graph.get_operation_by_name(\"input_x\").outputs[0]\n",
    "        dropout_keep_prob = graph.get_operation_by_name(\n",
    "            \"dropout_keep_prob\").outputs[0]\n",
    "\n",
    "        # Tensors we want to evaluate\n",
    "        predictions = graph.get_operation_by_name(\n",
    "            \"fc-3/predictions\").outputs[0]\n",
    "\n",
    "        # Generate batches for one epoch\n",
    "       \n",
    "        batches = batch_iter(x, y,128, 1)\n",
    "\n",
    "        # Collect the predictions here\n",
    "        all_predictions = []\n",
    "\n",
    "        for test_batch in batches:\n",
    "            x_batch, y_batch = zip(*test_batch)\n",
    "            batch_predictions = sess.run(\n",
    "                predictions, {input_x: x_batch, dropout_keep_prob: 1.0})\n",
    "            all_predictions = np.concatenate(\n",
    "                [all_predictions, batch_predictions])\n",
    "\n",
    "# Print accuracy\n",
    "correct_predictions = float(sum(np.equal(all_predictions,y_)))\n",
    "print(\"Total number of test examples: {}\".format(len(y_)))\n",
    "print(\"Accuracy: {:g}\".format(correct_predictions/float(len(y_))))"
   ]
  },
  {
   "cell_type": "code",
   "execution_count": null,
   "metadata": {
    "collapsed": true
   },
   "outputs": [],
   "source": []
  }
 ],
 "metadata": {
  "kernelspec": {
   "display_name": "Python 2",
   "language": "python",
   "name": "python2"
  },
  "language_info": {
   "codemirror_mode": {
    "name": "ipython",
    "version": 2
   },
   "file_extension": ".py",
   "mimetype": "text/x-python",
   "name": "python",
   "nbconvert_exporter": "python",
   "pygments_lexer": "ipython2",
   "version": "2.7.9"
  }
 },
 "nbformat": 4,
 "nbformat_minor": 0
}
